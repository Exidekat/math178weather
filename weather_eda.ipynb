{
 "cells": [
  {
   "cell_type": "markdown",
   "id": "0",
   "metadata": {},
   "source": [
    "## EDA for seattle_weather (pulled from Kaggle)\n"
   ]
  },
  {
   "cell_type": "code",
   "execution_count": null,
   "id": "1",
   "metadata": {},
   "outputs": [],
   "source": [
    "import numpy as np\n",
    "import pandas as pd\n",
    "import seaborn as sns\n",
    "import matplotlib.pyplot as plt"
   ]
  },
  {
   "cell_type": "code",
   "execution_count": null,
   "id": "2",
   "metadata": {},
   "outputs": [],
   "source": [
    "data_df = pd.read_csv(\"data/seattle-weather.csv\")\n",
    "print(data_df.head())"
   ]
  },
  {
   "cell_type": "code",
   "execution_count": null,
   "id": "3",
   "metadata": {},
   "outputs": [],
   "source": [
    "# Unique Weather values\n",
    "print(data_df['weather'].unique())"
   ]
  },
  {
   "cell_type": "code",
   "execution_count": null,
   "id": "4",
   "metadata": {},
   "outputs": [],
   "source": [
    "# How many days of each weather type?\n",
    "weather_counts = data_df[\"weather\"].value_counts()\n",
    "print(weather_counts)"
   ]
  },
  {
   "cell_type": "code",
   "execution_count": null,
   "id": "5",
   "metadata": {},
   "outputs": [],
   "source": [
    "# Summary statistics for numeric features\n",
    "print(data_df[[\"precipitation\", \"temp_max\", \"temp_min\", \"wind\"]].describe())\n",
    "\n",
    "# Correlation matrix\n",
    "plt.figure(figsize=(12, 8))\n",
    "corr = data_df[[\"precipitation\", \"temp_max\", \"temp_min\", \"wind\"]].corr()\n",
    "sns.heatmap(corr, annot=True, cmap=\"coolwarm\", fmt=\".2f\", linewidths=0.5)\n",
    "plt.title(\"Correlation Heatmap\")\n",
    "plt.show()"
   ]
  },
  {
   "cell_type": "code",
   "execution_count": null,
   "id": "6",
   "metadata": {},
   "outputs": [],
   "source": [
    "# Converting the date column to datetime\n",
    "data_df[\"date\"] = pd.to_datetime(data_df[\"date\"])\n",
    "\n",
    "# Add month and year columns\n",
    "data_df[\"month\"] = data_df[\"date\"].dt.month\n",
    "data_df[\"year\"]  = data_df[\"date\"].dt.year\n",
    "\n",
    "# Monthly average temperature and precipitation\n",
    "monthly = data_df.groupby(\"month\")[[\"temp_max\", \"temp_min\", \"precipitation\"]].mean()\n",
    "\n",
    "plt.figure()\n",
    "monthly[\"temp_max\"].plot()\n",
    "plt.title(\"Average Max Temp by Month\")\n",
    "plt.xlabel(\"Month\")\n",
    "plt.ylabel(\"Temp (°C)\")\n",
    "plt.show()\n",
    "\n",
    "plt.figure()\n",
    "monthly[\"precipitation\"].plot()\n",
    "plt.title(\"Average Precipitation by Month\")\n",
    "plt.xlabel(\"Month\")\n",
    "plt.ylabel(\"Precip (mm)\")\n",
    "plt.show()\n"
   ]
  },
  {
   "cell_type": "markdown",
   "id": "7",
   "metadata": {},
   "source": [
    "We're going to build a Markov Chain model to predict which of the 5 weather states the next day will take!"
   ]
  },
  {
   "cell_type": "code",
   "execution_count": null,
   "id": "8",
   "metadata": {},
   "outputs": [],
   "source": [
    "# 1. Enumerate states\n",
    "states = data_df[\"weather\"].unique()\n",
    "state_to_idx = {s: i for i, s in enumerate(states)}\n",
    "idx_to_state = {i: s for s, i in state_to_idx.items()}\n",
    "\n",
    "# 2. Build transition count matrix\n",
    "n = len(states)\n",
    "counts = np.zeros((n, n), dtype=int)\n",
    "\n",
    "# walk through consecutive days\n",
    "for today, tomorrow in zip(data_df[\"weather\"][:-1], data_df[\"weather\"][1:]):\n",
    "    i = state_to_idx[today]\n",
    "    j = state_to_idx[tomorrow]\n",
    "    counts[i, j] += 1\n",
    "\n",
    "# 3. Convert counts to probabilities (row‑normalize)\n",
    "#    if a row sums to zero (shouldnt happen with this data), leave uniform\n",
    "probs = np.zeros_like(counts, dtype=float)\n",
    "row_sums = counts.sum(axis=1, keepdims=True)\n",
    "nonzero = row_sums[:,0] != 0\n",
    "probs[nonzero] = counts[nonzero] / row_sums[nonzero]\n",
    "probs[~nonzero] = 1.0 / n\n",
    "\n",
    "# wrap in a DataFrame for readability\n",
    "transition_df = pd.DataFrame(probs, index=states, columns=states)\n",
    "print(\"Transition probability matrix:\\n\", transition_df)\n",
    "\n",
    "# 5. Prediction functions\n",
    "def predict_next_distribution(today_state):\n",
    "    \"\"\"Return a Series of P(tomorrow = s | today = today_state).\"\"\"\n",
    "    return transition_df.loc[today_state]\n",
    "\n",
    "def predict_most_likely(today_state):\n",
    "    \"\"\"Return the single most likely next‑day weather.\"\"\"\n",
    "    return transition_df.loc[today_state].idxmax()\n",
    "\n",
    "# 6. Example usage\n",
    "for s in states:\n",
    "    print(f\"If today is {s:7s}, tomorrow is most likely: {predict_most_likely(s)}\")"
   ]
  },
  {
   "cell_type": "markdown",
   "id": "9",
   "metadata": {},
   "source": [
    "## Model Validation"
   ]
  },
  {
   "cell_type": "code",
   "execution_count": null,
   "id": "10",
   "metadata": {},
   "outputs": [],
   "source": [
    "correct = 0\n",
    "total   = len(data_df) - 1   # number of transitions\n",
    "for today, actual_tomorrow in zip(data_df[\"weather\"][:-1], data_df[\"weather\"][1:]):\n",
    "    if predict_most_likely(today) == actual_tomorrow:\n",
    "        correct += 1\n",
    "\n",
    "accuracy = correct / total\n",
    "print(f\"Validation accuracy: {accuracy:.2%}  ({correct}/{total} correct)\")\n"
   ]
  },
  {
   "cell_type": "markdown",
   "id": "11",
   "metadata": {},
   "source": [
    "Next steps: Creating composite states that will improve the accuracy of our model"
   ]
  },
  {
   "cell_type": "code",
   "execution_count": null,
   "id": "12",
   "metadata": {},
   "outputs": [],
   "source": [
    "# 1. Define pure weather states and composite (weather, month) states\n",
    "weather_states    = sorted(data_df[\"weather\"].unique())\n",
    "composite_states  = sorted(data_df[[\"weather\",\"month\"]]\n",
    "                           .drop_duplicates()\n",
    "                           .apply(lambda row: f\"{row.weather}_{row.month:02d}\", axis=1))\n",
    "\n",
    "w2i = {w:i for i,w in enumerate(weather_states)}\n",
    "c2i = {c:i for i,c in enumerate(composite_states)}\n",
    "\n",
    "# 2. Build count matrix of shape (n_composite × n_weather)\n",
    "n_c, n_w = len(composite_states), len(weather_states)\n",
    "counts = np.zeros((n_c, n_w), dtype=int)\n",
    "\n",
    "# 3. Tally transitions: (weatherₜ, monthₜ) → weatherₜ₊₁\n",
    "for (w_t, m_t), w_t1 in zip(data_df[[\"weather\",\"month\"]][:-1].itertuples(index=False),\n",
    "                             data_df[\"weather\"][1:]):\n",
    "    comp = f\"{w_t}_{m_t:02d}\"\n",
    "    counts[c2i[comp], w2i[w_t1]] += 1\n",
    "\n",
    "# 4. Normalize counts to probabilities (row‑wise)\n",
    "probs = np.zeros_like(counts, dtype=float)\n",
    "row_sums = counts.sum(axis=1, keepdims=True)\n",
    "nonzero  = (row_sums[:,0] != 0)\n",
    "probs[nonzero] = counts[nonzero] / row_sums[nonzero]\n",
    "probs[~nonzero] = 1.0 / n_w  # if we ever had a zero‑row\n",
    "\n",
    "# 5. Put into a DataFrame\n",
    "transition_df = pd.DataFrame(\n",
    "    probs,\n",
    "    index=composite_states,\n",
    "    columns=weather_states\n",
    ")\n",
    "\n",
    "print(\"P(next_weather | today_weather, today_month):\")\n",
    "print(transition_df)\n",
    "\n",
    "# 6. Prediction helpers — uses both weather and month\n",
    "def predict_next_dist(today_weather, today_month):\n",
    "    comp = f\"{today_weather}_{today_month:02d}\"\n",
    "    return transition_df.loc[comp]\n",
    "\n",
    "def predict_next_most_likely(today_weather, today_month):\n",
    "    return predict_next_dist(today_weather, today_month).idxmax()\n",
    "\n",
    "# 7. Example: what’s most likely tomorrow if today is rain in January?\n",
    "print(\"\\nExample:\")\n",
    "print(\"  Today = rain, month = 01 → tomorrow most likely:\",\n",
    "      predict_next_most_likely(\"rain\", 1))\n"
   ]
  },
  {
   "cell_type": "code",
   "execution_count": null,
   "id": "13",
   "metadata": {},
   "outputs": [],
   "source": [
    "# Validation for composite (weather, month) Markov model\n",
    "correct = 0\n",
    "total   = len(data_df) - 1   # number of transitions\n",
    "\n",
    "for idx in range(total):\n",
    "    today_weather = data_df.loc[idx, \"weather\"]\n",
    "    today_month   = data_df.loc[idx, \"month\"]\n",
    "    actual_next   = data_df.loc[idx + 1, \"weather\"]\n",
    "\n",
    "    # predict using composite-state function\n",
    "    pred = predict_next_most_likely(today_weather, today_month)\n",
    "\n",
    "    if pred == actual_next:\n",
    "        correct += 1\n",
    "\n",
    "accuracy = correct / total\n",
    "print(f\"Validation accuracy: {accuracy:.2%}  ({correct}/{total} correct)\")\n"
   ]
  }
 ],
 "metadata": {
  "kernelspec": {
   "display_name": "Python 3",
   "language": "python",
   "name": "python3"
  },
  "language_info": {
   "codemirror_mode": {
    "name": "ipython",
    "version": 2
   },
   "file_extension": ".py",
   "mimetype": "text/x-python",
   "name": "python",
   "nbconvert_exporter": "python",
   "pygments_lexer": "ipython2",
   "version": "2.7.6"
  }
 },
 "nbformat": 4,
 "nbformat_minor": 5
}
